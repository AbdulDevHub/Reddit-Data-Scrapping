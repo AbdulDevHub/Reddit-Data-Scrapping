{
 "cells": [
  {
   "cell_type": "code",
   "execution_count": null,
   "id": "7cab58c4-93b8-4d2f-af66-f05f1c05fdd4",
   "metadata": {},
   "outputs": [],
   "source": [
    "!pip install praw"
   ]
  },
  {
   "cell_type": "code",
   "execution_count": null,
   "id": "6d1d9aa2-9697-44e1-a945-a104680a9cdb",
   "metadata": {},
   "outputs": [],
   "source": [
    "import praw\n",
    "import pandas as pd\n",
    "import datetime\n",
    "# Initialize PRAW with your Reddit API credentials\n",
    "reddit = praw.Reddit(client_id='',\n",
    "                     client_secret='',\n",
    "                     user_agent='')"
   ]
  },
  {
   "cell_type": "code",
   "execution_count": null,
   "id": "488d14f3-0d66-43e3-a5b4-ca7b504facd5",
   "metadata": {},
   "outputs": [],
   "source": [
    "# Choose the subreddit you want to scrape\n",
    "subreddit = reddit.subreddit('canadahousing')\n",
    "\n",
    "# Retrieve the top 100 posts from the subreddit\n",
    "newest_posts = subreddit.new(limit=100)\n",
    "\n",
    "# Create an empty list to store post data\n",
    "data = []\n",
    "\n",
    "for post in newest_posts:\n",
    "        post_data = {\n",
    "            \"Title\": post.title,\n",
    "            \"Score\": post.score,\n",
    "            \"Content\": post.selftext if post.selftext else None,\n",
    "            \"Number of Comments\": post.num_comments,\n",
    "             \"Post URL\": post.url,\n",
    "            \"Full URL\": f\"https://www.reddit.com{post.permalink}\",\n",
    "            \"Date\": datetime.datetime.utcfromtimestamp(post.created_utc).strftime('%Y-%m-%d %H:%M:%S')\n",
    "        }\n",
    "        data.append(post_data)\n",
    "\n",
    "df_new_posts = pd.DataFrame(data)\n",
    "\n",
    "# Print 10 observations from the DataFrame\n",
    "print(df_new_posts.head(10))"
   ]
  },
  {
   "cell_type": "code",
   "execution_count": null,
   "id": "7211b4b3-28cd-425f-b012-244872629c68",
   "metadata": {},
   "outputs": [],
   "source": [
    "!pip install wordcloud"
   ]
  },
  {
   "cell_type": "code",
   "execution_count": null,
   "id": "61694c0e-d2bb-4811-b9df-1bd482f60534",
   "metadata": {},
   "outputs": [],
   "source": [
    "from wordcloud import WordCloud  # Library for generating word clouds\n",
    "import matplotlib.pyplot as plt  # Library for plotting graphs\n",
    "\n",
    "text = ' '.join(df_new_posts['Title'])\n",
    "wordcloud = WordCloud(width=800, height=400, background_color='white').generate(text)\n",
    "plt.figure(figsize=(10, 5))\n",
    "plt.imshow(wordcloud, interpolation='bilinear')\n",
    "plt.axis('off')\n",
    "\n",
    "plt.title('Word Cloud representing r/canadahousing post titles')\n",
    "\n",
    "plt.show()"
   ]
  },
  {
   "cell_type": "code",
   "execution_count": null,
   "id": "2d81eea1-1bed-4e84-9397-2f0dc42b86b0",
   "metadata": {},
   "outputs": [],
   "source": [
    "import nltk\n",
    "from nltk.sentiment import SentimentIntensityAnalyzer\n",
    "\n",
    "nltk.download('vader_lexicon')"
   ]
  },
  {
   "cell_type": "code",
   "execution_count": null,
   "id": "603747b0-90f2-4fbb-89e1-070b527f9a56",
   "metadata": {
    "scrolled": true
   },
   "outputs": [],
   "source": [
    "# Initialize the VADER sentiment analyzer\n",
    "analyzer = SentimentIntensityAnalyzer()\n",
    "\n",
    "# Function to classify sentiment\n",
    "def classify_sentiment(text):\n",
    "    sentiment = analyzer.polarity_scores(text)['compound']\n",
    "    if sentiment < 0:\n",
    "        return 'Negative'\n",
    "    elif sentiment <= 0.3:\n",
    "        return 'Neutral'\n",
    "    else:\n",
    "        return 'Positive'\n",
    "\n",
    "# Apply sentiment classification to post titles\n",
    "df_new_posts['Sentiment Classification'] = df_new_posts['Title'].apply(classify_sentiment)\n",
    "\n",
    "# Print 10 observations\n",
    "print(df_new_posts[['Title', 'Sentiment Classification']].head(10))"
   ]
  },
  {
   "cell_type": "code",
   "execution_count": null,
   "id": "f70db5b2-ddaa-4931-85ed-dbeaa8d67424",
   "metadata": {},
   "outputs": [],
   "source": [
    "colors = {'Positive': 'green', 'Negative': 'red', 'Neutral': 'blue'}\n",
    "\n",
    "plt.figure(figsize=(8, 6))\n",
    "for sentiment, color in colors.items():\n",
    "    subset = df_new_posts[df_new_posts['Sentiment Classification'] == sentiment]\n",
    "    plt.scatter(subset['Number of Comments'], subset['Score'], color=color, label=sentiment, alpha=0.5)\n",
    "plt.title('Relationship between Number of Comments and Score (Colored by Sentiment)')\n",
    "plt.xlabel('Number of Comments')\n",
    "plt.ylabel('Score')\n",
    "plt.legend()\n",
    "plt.grid(True)\n",
    "plt.show()"
   ]
  },
  {
   "cell_type": "code",
   "execution_count": null,
   "id": "d18c493e-c1f4-4ec8-9388-42b8cd92a263",
   "metadata": {},
   "outputs": [],
   "source": [
    "# Second Dataframe\n",
    "# Define the subreddit\n",
    "subreddit = reddit.subreddit('canada')\n",
    "\n",
    "# Retrieve the top 1000 posts from the subreddit\n",
    "newest_posts = subreddit.new(limit=1000)\n",
    "\n",
    "# Create an empty list to store post data\n",
    "data = []\n",
    "\n",
    "for post in newest_posts:\n",
    "    # Check if the post title or content contains relevant keywords (e.g., 'housing')\n",
    "    if 'housing' in post.title.lower() or 'housing' in post.selftext.lower():\n",
    "        post_data = {\n",
    "            \"Title\": post.title,\n",
    "            \"Score\": post.score,\n",
    "            \"Content\": post.selftext if post.selftext else None,\n",
    "            \"Number of Comments\": post.num_comments,\n",
    "            \"Post URL\": post.url,\n",
    "            \"Full URL\": f\"https://www.reddit.com{post.permalink}\",\n",
    "            \"Date\": datetime.datetime.utcfromtimestamp(post.created_utc).strftime('%Y-%m-%d %H:%M:%S')\n",
    "        }\n",
    "        data.append(post_data)\n",
    "\n",
    "# Create DataFrame from the filtered data\n",
    "df = pd.DataFrame(data)\n",
    "\n",
    "# Print 10 observations from the DataFrame\n",
    "print(df)"
   ]
  },
  {
   "cell_type": "code",
   "execution_count": null,
   "id": "9d8fa401-02a4-4c77-ab72-aced5739b1e3",
   "metadata": {},
   "outputs": [],
   "source": [
    "text = ' '.join(df['Title'])\n",
    "wordcloud = WordCloud(width=800, height=400, background_color='white').generate(text)\n",
    "plt.figure(figsize=(10, 5))\n",
    "plt.imshow(wordcloud, interpolation='bilinear')\n",
    "plt.axis('off')\n",
    "\n",
    "plt.title('Word Cloud representing r/canada post titles')\n",
    "\n",
    "plt.show()"
   ]
  },
  {
   "cell_type": "code",
   "execution_count": null,
   "id": "ff805ca3-2de9-474b-ac06-85be433b2db7",
   "metadata": {},
   "outputs": [],
   "source": [
    "# Apply sentiment classification to post titles\n",
    "df['Sentiment Classification'] = df['Title'].apply(classify_sentiment)\n",
    "\n",
    "# Print 10 observations\n",
    "print(df[['Title', 'Sentiment Classification']].head(10))"
   ]
  },
  {
   "cell_type": "code",
   "execution_count": null,
   "id": "ef021d2c-a4f9-437c-9e90-c2fe3980651c",
   "metadata": {},
   "outputs": [],
   "source": [
    "plt.figure(figsize=(8, 6))\n",
    "for sentiment, color in colors.items():\n",
    "    subset = df[df['Sentiment Classification'] == sentiment]\n",
    "    plt.scatter(subset['Number of Comments'], subset['Score'], color=color, label=sentiment, alpha=0.5)\n",
    "plt.title('Relationship between Number of Comments and Score (Colored by Sentiment)')\n",
    "plt.xlabel('Number of Comments')\n",
    "plt.ylabel('Score')\n",
    "plt.legend()\n",
    "plt.grid(True)\n",
    "plt.show()"
   ]
  }
 ],
 "metadata": {
  "kernelspec": {
   "display_name": "Python 3 (ipykernel)",
   "language": "python",
   "name": "python3"
  },
  "language_info": {
   "codemirror_mode": {
    "name": "ipython",
    "version": 3
   },
   "file_extension": ".py",
   "mimetype": "text/x-python",
   "name": "python",
   "nbconvert_exporter": "python",
   "pygments_lexer": "ipython3",
   "version": "3.11.6"
  }
 },
 "nbformat": 4,
 "nbformat_minor": 5
}
